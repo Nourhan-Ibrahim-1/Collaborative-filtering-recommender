{
 "cells": [
  {
   "cell_type": "code",
   "execution_count": 1,
   "id": "9017f2fb",
   "metadata": {},
   "outputs": [],
   "source": [
    "import sys\n",
    "sys.path.append('../src')\n",
    "\n",
    "from data_loader import load_data, preprocess_data\n",
    "from recommender import build_trainset, user_based_cf, item_based_cf\n",
    "from evaluation import compute_rmse, precision_recall_at_k\n",
    "from surprise.model_selection import train_test_split\n",
    "import json\n",
    "import matplotlib.pyplot as plt\n",
    "\n",
    "import os\n",
    "os.chdir(\"..\")"
   ]
  },
  {
   "cell_type": "code",
   "execution_count": 2,
   "id": "87e4c223",
   "metadata": {},
   "outputs": [],
   "source": [
    "ratings, items, users = load_data()\n",
    "ratings_clean = preprocess_data(ratings)"
   ]
  },
  {
   "cell_type": "code",
   "execution_count": 3,
   "id": "da039a0c",
   "metadata": {},
   "outputs": [],
   "source": [
    "from surprise import Dataset, Reader\n",
    "reader = Reader(rating_scale=(1, 5))\n",
    "data = Dataset.load_from_df(ratings_clean[['user_id', 'item_id', 'rating']], reader)\n",
    "trainset, testset = train_test_split(data, test_size=0.25, random_state=42)\n"
   ]
  },
  {
   "cell_type": "code",
   "execution_count": 4,
   "id": "ef667c62",
   "metadata": {},
   "outputs": [
    {
     "name": "stdout",
     "output_type": "stream",
     "text": [
      "Computing the cosine similarity matrix...\n",
      "Done computing similarity matrix.\n",
      "Computing the cosine similarity matrix...\n",
      "Done computing similarity matrix.\n"
     ]
    }
   ],
   "source": [
    "algo_user = user_based_cf(trainset)\n",
    "algo_item = item_based_cf(trainset)"
   ]
  },
  {
   "cell_type": "code",
   "execution_count": 5,
   "id": "984b193e",
   "metadata": {},
   "outputs": [],
   "source": [
    "predictions_user = algo_user.test(testset)\n",
    "predictions_item = algo_item.test(testset)\n"
   ]
  },
  {
   "cell_type": "code",
   "execution_count": 6,
   "id": "db6d3d90",
   "metadata": {},
   "outputs": [],
   "source": [
    "rmse_user = compute_rmse(predictions_user)\n",
    "precision_user, recall_user = precision_recall_at_k(predictions_user)\n",
    "\n",
    "rmse_item = compute_rmse(predictions_item)\n",
    "precision_item, recall_item = precision_recall_at_k(predictions_item)"
   ]
  },
  {
   "cell_type": "code",
   "execution_count": 7,
   "id": "d89c550e",
   "metadata": {},
   "outputs": [],
   "source": [
    "results = {\n",
    "    'user_based': {\n",
    "        'RMSE': rmse_user,\n",
    "        'Precision@10': precision_user,\n",
    "        'Recall@10': recall_user\n",
    "    },\n",
    "    'item_based': {\n",
    "        'RMSE': rmse_item,\n",
    "        'Precision@10': precision_item,\n",
    "        'Recall@10': recall_item\n",
    "    }\n",
    "}"
   ]
  },
  {
   "cell_type": "code",
   "execution_count": 8,
   "id": "14660c4d",
   "metadata": {},
   "outputs": [
    {
     "name": "stdout",
     "output_type": "stream",
     "text": [
      "\n",
      "Evaluation metrics saved!\n"
     ]
    }
   ],
   "source": [
    "with open('results/evaluation_metrics.json', 'w') as f:\n",
    "    json.dump(results, f, indent=4)\n",
    "\n",
    "print(\"\\nEvaluation metrics saved!\")"
   ]
  },
  {
   "cell_type": "code",
   "execution_count": 9,
   "id": "1bea7ba8",
   "metadata": {},
   "outputs": [
    {
     "data": {
      "image/png": "[encoded data removed]",
      "text/plain": [
       "<Figure size 640x480 with 1 Axes>"
      ]
     },
     "metadata": {},
     "output_type": "display_data"
    }
   ],
   "source": [
    "labels = ['User-Based CF', 'Item-Based CF']\n",
    "rmse_scores = [rmse_user, rmse_item]\n",
    "\n",
    "plt.bar(labels, rmse_scores, color=['skyblue', 'salmon'])\n",
    "plt.title('RMSE Comparison')\n",
    "plt.ylabel('RMSE')\n",
    "plt.show()\n"
   ]
  }
 ],
 "metadata": {
  "kernelspec": {
   "display_name": "Python 3",
   "language": "python",
   "name": "python3"
  },
  "language_info": {
   "codemirror_mode": {
    "name": "ipython",
    "version": 3
   },
   "file_extension": ".py",
   "mimetype": "text/x-python",
   "name": "python",
   "nbconvert_exporter": "python",
   "pygments_lexer": "ipython3",
   "version": "3.10.0"
  }
 },
 "nbformat": 4,
 "nbformat_minor": 5
}
