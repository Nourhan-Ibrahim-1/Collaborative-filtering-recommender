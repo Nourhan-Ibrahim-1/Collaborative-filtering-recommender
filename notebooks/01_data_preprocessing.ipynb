{
 "cells": [
  {
   "cell_type": "code",
   "execution_count": 45,
   "id": "c65b1c7e",
   "metadata": {},
   "outputs": [
    {
     "name": "stdout",
     "output_type": "stream",
     "text": [
      "data_loader.py loaded!\n",
      "Available names: ['__builtins__', '__cached__', '__doc__', '__file__', '__loader__', '__name__', '__package__', '__spec__', 'load_data', 'os', 'pd']\n"
     ]
    }
   ],
   "source": [
    "import importlib.util\n",
    "import os\n",
    "import sys\n",
    "\n",
    "module_path = os.path.abspath(os.path.join('..', 'src', 'data_loader.py'))\n",
    "\n",
    "spec = importlib.util.spec_from_file_location(\"data_loader\", module_path)\n",
    "data_loader = importlib.util.module_from_spec(spec)\n",
    "sys.modules[\"data_loader\"] = data_loader\n",
    "spec.loader.exec_module(data_loader)\n",
    "\n",
    "ratings, items, users = data_loader.load_data()\n"
   ]
  },
  {
   "cell_type": "code",
   "execution_count": 46,
   "id": "f087264d",
   "metadata": {},
   "outputs": [
    {
     "name": "stdout",
     "output_type": "stream",
     "text": [
      "Ratings Data:\n",
      "   user_id  item_id  rating  timestamp\n",
      "0      196      242       3  881250949\n",
      "1      186      302       3  891717742\n",
      "2       22      377       1  878887116\n",
      "3      244       51       2  880606923\n",
      "4      166      346       1  886397596\n",
      "\n",
      "Items Data:\n",
      "   0                  1            2   3   \\\n",
      "0   1   Toy Story (1995)  01-Jan-1995 NaN   \n",
      "1   2   GoldenEye (1995)  01-Jan-1995 NaN   \n",
      "2   3  Four Rooms (1995)  01-Jan-1995 NaN   \n",
      "3   4  Get Shorty (1995)  01-Jan-1995 NaN   \n",
      "4   5     Copycat (1995)  01-Jan-1995 NaN   \n",
      "\n",
      "                                                  4   5   6   7   8   9   ...  \\\n",
      "0  http://us.imdb.com/M/title-exact?Toy%20Story%2...   0   0   0   1   1  ...   \n",
      "1  http://us.imdb.com/M/title-exact?GoldenEye%20(...   0   1   1   0   0  ...   \n",
      "2  http://us.imdb.com/M/title-exact?Four%20Rooms%...   0   0   0   0   0  ...   \n",
      "3  http://us.imdb.com/M/title-exact?Get%20Shorty%...   0   1   0   0   0  ...   \n",
      "4  http://us.imdb.com/M/title-exact?Copycat%20(1995)   0   0   0   0   0  ...   \n",
      "\n",
      "   14  15  16  17  18  19  20  21  22  23  \n",
      "0   0   0   0   0   0   0   0   0   0   0  \n",
      "1   0   0   0   0   0   0   0   1   0   0  \n",
      "2   0   0   0   0   0   0   0   1   0   0  \n",
      "3   0   0   0   0   0   0   0   0   0   0  \n",
      "4   0   0   0   0   0   0   0   1   0   0  \n",
      "\n",
      "[5 rows x 24 columns]\n",
      "\n",
      "Users Data:\n",
      "   0   1  2           3      4\n",
      "0  1  24  M  technician  85711\n",
      "1  2  53  F       other  94043\n",
      "2  3  23  M      writer  32067\n",
      "3  4  24  M  technician  43537\n",
      "4  5  33  F       other  15213\n"
     ]
    }
   ],
   "source": [
    "print(\"Ratings Data:\")\n",
    "print(ratings.head())\n",
    "\n",
    "print(\"\\nItems Data:\")\n",
    "print(items.head())\n",
    "\n",
    "print(\"\\nUsers Data:\")\n",
    "print(users.head())\n"
   ]
  },
  {
   "cell_type": "code",
   "execution_count": 47,
   "id": "a78871bf",
   "metadata": {},
   "outputs": [
    {
     "name": "stdout",
     "output_type": "stream",
     "text": [
      "\n",
      "Ratings Info:\n",
      "<class 'pandas.core.frame.DataFrame'>\n",
      "RangeIndex: 100000 entries, 0 to 99999\n",
      "Data columns (total 4 columns):\n",
      " #   Column     Non-Null Count   Dtype\n",
      "---  ------     --------------   -----\n",
      " 0   user_id    100000 non-null  int64\n",
      " 1   item_id    100000 non-null  int64\n",
      " 2   rating     100000 non-null  int64\n",
      " 3   timestamp  100000 non-null  int64\n",
      "dtypes: int64(4)\n",
      "memory usage: 3.1 MB\n",
      "None\n",
      "\n",
      "Items Info:\n",
      "<class 'pandas.core.frame.DataFrame'>\n",
      "RangeIndex: 1682 entries, 0 to 1681\n",
      "Data columns (total 24 columns):\n",
      " #   Column  Non-Null Count  Dtype  \n",
      "---  ------  --------------  -----  \n",
      " 0   0       1682 non-null   int64  \n",
      " 1   1       1682 non-null   object \n",
      " 2   2       1681 non-null   object \n",
      " 3   3       0 non-null      float64\n",
      " 4   4       1679 non-null   object \n",
      " 5   5       1682 non-null   int64  \n",
      " 6   6       1682 non-null   int64  \n",
      " 7   7       1682 non-null   int64  \n",
      " 8   8       1682 non-null   int64  \n",
      " 9   9       1682 non-null   int64  \n",
      " 10  10      1682 non-null   int64  \n",
      " 11  11      1682 non-null   int64  \n",
      " 12  12      1682 non-null   int64  \n",
      " 13  13      1682 non-null   int64  \n",
      " 14  14      1682 non-null   int64  \n",
      " 15  15      1682 non-null   int64  \n",
      " 16  16      1682 non-null   int64  \n",
      " 17  17      1682 non-null   int64  \n",
      " 18  18      1682 non-null   int64  \n",
      " 19  19      1682 non-null   int64  \n",
      " 20  20      1682 non-null   int64  \n",
      " 21  21      1682 non-null   int64  \n",
      " 22  22      1682 non-null   int64  \n",
      " 23  23      1682 non-null   int64  \n",
      "dtypes: float64(1), int64(20), object(3)\n",
      "memory usage: 315.5+ KB\n",
      "None\n",
      "\n",
      "Users Info:\n",
      "<class 'pandas.core.frame.DataFrame'>\n",
      "RangeIndex: 943 entries, 0 to 942\n",
      "Data columns (total 5 columns):\n",
      " #   Column  Non-Null Count  Dtype \n",
      "---  ------  --------------  ----- \n",
      " 0   0       943 non-null    int64 \n",
      " 1   1       943 non-null    int64 \n",
      " 2   2       943 non-null    object\n",
      " 3   3       943 non-null    object\n",
      " 4   4       943 non-null    object\n",
      "dtypes: int64(2), object(3)\n",
      "memory usage: 37.0+ KB\n",
      "None\n"
     ]
    }
   ],
   "source": [
    "print(\"\\nRatings Info:\")\n",
    "print(ratings.info())\n",
    "\n",
    "print(\"\\nItems Info:\")\n",
    "print(items.info())\n",
    "\n",
    "print(\"\\nUsers Info:\")\n",
    "print(users.info())"
   ]
  },
  {
   "cell_type": "code",
   "execution_count": 48,
   "id": "ea60991d",
   "metadata": {},
   "outputs": [
    {
     "name": "stdout",
     "output_type": "stream",
     "text": [
      "\n",
      "Missing Values in Ratings:\n",
      "user_id      0\n",
      "item_id      0\n",
      "rating       0\n",
      "timestamp    0\n",
      "dtype: int64\n",
      "\n",
      "Missing Values in Items:\n",
      "0        0\n",
      "1        0\n",
      "2        1\n",
      "3     1682\n",
      "4        3\n",
      "5        0\n",
      "6        0\n",
      "7        0\n",
      "8        0\n",
      "9        0\n",
      "10       0\n",
      "11       0\n",
      "12       0\n",
      "13       0\n",
      "14       0\n",
      "15       0\n",
      "16       0\n",
      "17       0\n",
      "18       0\n",
      "19       0\n",
      "20       0\n",
      "21       0\n",
      "22       0\n",
      "23       0\n",
      "dtype: int64\n",
      "\n",
      "Missing Values in Users:\n",
      "0    0\n",
      "1    0\n",
      "2    0\n",
      "3    0\n",
      "4    0\n",
      "dtype: int64\n"
     ]
    }
   ],
   "source": [
    "print(\"\\nMissing Values in Ratings:\")\n",
    "print(ratings.isnull().sum())\n",
    "\n",
    "print(\"\\nMissing Values in Items:\")\n",
    "print(items.isnull().sum())\n",
    "\n",
    "print(\"\\nMissing Values in Users:\")\n",
    "print(users.isnull().sum())"
   ]
  },
  {
   "cell_type": "code",
   "execution_count": 49,
   "id": "789385b6",
   "metadata": {},
   "outputs": [
    {
     "name": "stdout",
     "output_type": "stream",
     "text": [
      "\n",
      "Basic Statistics for Ratings:\n",
      "            user_id        item_id         rating     timestamp\n",
      "count  100000.00000  100000.000000  100000.000000  1.000000e+05\n",
      "mean      462.48475     425.530130       3.529860  8.835289e+08\n",
      "std       266.61442     330.798356       1.125674  5.343856e+06\n",
      "min         1.00000       1.000000       1.000000  8.747247e+08\n",
      "25%       254.00000     175.000000       3.000000  8.794487e+08\n",
      "50%       447.00000     322.000000       4.000000  8.828269e+08\n",
      "75%       682.00000     631.000000       4.000000  8.882600e+08\n",
      "max       943.00000    1682.000000       5.000000  8.932866e+08\n"
     ]
    }
   ],
   "source": [
    "print(\"\\nBasic Statistics for Ratings:\")\n",
    "print(ratings.describe())"
   ]
  }
 ],
 "metadata": {
  "kernelspec": {
   "display_name": "Python 3",
   "language": "python",
   "name": "python3"
  },
  "language_info": {
   "name": "python",
   "version": "3.10.0"
  }
 },
 "nbformat": 4,
 "nbformat_minor": 5
}
