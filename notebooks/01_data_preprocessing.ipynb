{
 "cells": [
  {
   "cell_type": "code",
   "execution_count": 3,
   "id": "c65b1c7e",
   "metadata": {},
   "outputs": [],
   "source": [
    "import sys\n",
    "sys.path.append('../src')  # Add src folder to path\n",
    "\n",
    "import pandas as pd\n",
    "from data_loader import load_data, preprocess_data\n",
    "\n",
    "import os\n",
    "os.chdir(\"..\")\n",
    "\n"
   ]
  },
  {
   "cell_type": "code",
   "execution_count": 4,
   "id": "f087264d",
   "metadata": {},
   "outputs": [],
   "source": [
    "ratings, items, users = load_data()"
   ]
  },
  {
   "cell_type": "code",
   "execution_count": 5,
   "id": "a78871bf",
   "metadata": {},
   "outputs": [
    {
     "name": "stdout",
     "output_type": "stream",
     "text": [
      "Ratings sample:\n",
      "   user_id  item_id  rating  timestamp\n",
      "0      196      242       3  881250949\n",
      "1      186      302       3  891717742\n",
      "2       22      377       1  878887116\n",
      "3      244       51       2  880606923\n",
      "4      166      346       1  886397596\n",
      "\n",
      "Movies sample:\n",
      "   item_id              title\n",
      "0        1   Toy Story (1995)\n",
      "1        2   GoldenEye (1995)\n",
      "2        3  Four Rooms (1995)\n",
      "3        4  Get Shorty (1995)\n",
      "4        5     Copycat (1995)\n",
      "\n",
      "Users sample:\n",
      "   user_id  age gender  occupation zip_code\n",
      "0        1   24      M  technician    85711\n",
      "1        2   53      F       other    94043\n",
      "2        3   23      M      writer    32067\n",
      "3        4   24      M  technician    43537\n",
      "4        5   33      F       other    15213\n"
     ]
    }
   ],
   "source": [
    "print(\"Ratings sample:\")\n",
    "print(ratings.head())\n",
    "\n",
    "print(\"\\nMovies sample:\")\n",
    "print(items.head())\n",
    "\n",
    "print(\"\\nUsers sample:\")\n",
    "print(users.head())"
   ]
  },
  {
   "cell_type": "code",
   "execution_count": 6,
   "id": "ea60991d",
   "metadata": {},
   "outputs": [],
   "source": [
    "ratings_clean = preprocess_data(ratings)"
   ]
  },
  {
   "cell_type": "code",
   "execution_count": 8,
   "id": "789385b6",
   "metadata": {},
   "outputs": [
    {
     "name": "stdout",
     "output_type": "stream",
     "text": [
      "\n",
      "Preprocessed ratings saved!\n"
     ]
    }
   ],
   "source": [
    "ratings_clean.to_csv('data/ratings_clean.csv', index=False)\n",
    "print(\"\\nPreprocessed ratings saved!\")"
   ]
  }
 ],
 "metadata": {
  "kernelspec": {
   "display_name": "Python 3",
   "language": "python",
   "name": "python3"
  },
  "language_info": {
   "codemirror_mode": {
    "name": "ipython",
    "version": 3
   },
   "file_extension": ".py",
   "mimetype": "text/x-python",
   "name": "python",
   "nbconvert_exporter": "python",
   "pygments_lexer": "ipython3",
   "version": "3.10.0"
  }
 },
 "nbformat": 4,
 "nbformat_minor": 5
}
