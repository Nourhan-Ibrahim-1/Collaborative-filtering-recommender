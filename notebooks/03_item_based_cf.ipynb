{
 "cells": [
  {
   "cell_type": "code",
   "execution_count": 3,
   "id": "4a13cfa3",
   "metadata": {},
   "outputs": [],
   "source": [
    "import sys\n",
    "sys.path.append('../src')\n",
    "\n",
    "from data_loader import load_data, preprocess_data\n",
    "from recommender import build_trainset, item_based_cf, get_top_n\n",
    "from surprise.model_selection import train_test_split\n",
    "\n",
    "import os\n",
    "os.chdir(\"..\")\n"
   ]
  },
  {
   "cell_type": "code",
   "execution_count": 4,
   "id": "6a2dce05",
   "metadata": {},
   "outputs": [],
   "source": [
    "ratings, items, users = load_data()\n",
    "ratings_clean = preprocess_data(ratings)"
   ]
  },
  {
   "cell_type": "code",
   "execution_count": 5,
   "id": "6427a0a5",
   "metadata": {},
   "outputs": [],
   "source": [
    "from surprise import Dataset, Reader\n",
    "reader = Reader(rating_scale=(1, 5))\n",
    "data = Dataset.load_from_df(ratings_clean[['user_id', 'item_id', 'rating']], reader)\n",
    "trainset, testset = train_test_split(data, test_size=0.25, random_state=42)"
   ]
  },
  {
   "cell_type": "code",
   "execution_count": 6,
   "id": "31b0adae",
   "metadata": {},
   "outputs": [
    {
     "name": "stdout",
     "output_type": "stream",
     "text": [
      "Computing the cosine similarity matrix...\n",
      "Done computing similarity matrix.\n"
     ]
    }
   ],
   "source": [
    "algo_item = item_based_cf(trainset)"
   ]
  },
  {
   "cell_type": "code",
   "execution_count": 7,
   "id": "35f11ae5",
   "metadata": {},
   "outputs": [],
   "source": [
    "predictions = algo_item.test(testset)"
   ]
  },
  {
   "cell_type": "code",
   "execution_count": 8,
   "id": "15b8dd97",
   "metadata": {},
   "outputs": [
    {
     "name": "stdout",
     "output_type": "stream",
     "text": [
      "user: 391        item: 591        r_ui = 4.00   est = 4.00   {'actual_k': 20, 'was_impossible': False}\n",
      "user: 181        item: 1291       r_ui = 1.00   est = 1.50   {'actual_k': 20, 'was_impossible': False}\n",
      "user: 637        item: 268        r_ui = 2.00   est = 2.75   {'actual_k': 20, 'was_impossible': False}\n",
      "user: 332        item: 451        r_ui = 5.00   est = 4.09   {'actual_k': 20, 'was_impossible': False}\n",
      "user: 271        item: 204        r_ui = 4.00   est = 3.80   {'actual_k': 20, 'was_impossible': False}\n"
     ]
    }
   ],
   "source": [
    "for pred in predictions[:5]:\n",
    "    print(pred)\n"
   ]
  },
  {
   "cell_type": "code",
   "execution_count": 9,
   "id": "5c089101",
   "metadata": {},
   "outputs": [],
   "source": [
    "top_n = get_top_n(predictions, n=10)"
   ]
  },
  {
   "cell_type": "code",
   "execution_count": 11,
   "id": "7ea494e0",
   "metadata": {},
   "outputs": [
    {
     "name": "stdout",
     "output_type": "stream",
     "text": [
      "\n",
      "Item-based top-N recommendations saved!\n"
     ]
    }
   ],
   "source": [
    "import pandas as pd\n",
    "\n",
    "top_n_list = []\n",
    "for uid, user_ratings in top_n.items():\n",
    "    for (iid, rating) in user_ratings:\n",
    "        top_n_list.append({'user_id': uid, 'item_id': iid, 'predicted_rating': rating})\n",
    "\n",
    "top_n_df = pd.DataFrame(top_n_list)\n",
    "top_n_df.to_csv('results/item_based_top_n_recommendations.csv', index=False)\n",
    "print(\"\\nItem-based top-N recommendations saved!\")"
   ]
  }
 ],
 "metadata": {
  "kernelspec": {
   "display_name": "Python 3",
   "language": "python",
   "name": "python3"
  },
  "language_info": {
   "codemirror_mode": {
    "name": "ipython",
    "version": 3
   },
   "file_extension": ".py",
   "mimetype": "text/x-python",
   "name": "python",
   "nbconvert_exporter": "python",
   "pygments_lexer": "ipython3",
   "version": "3.10.0"
  }
 },
 "nbformat": 4,
 "nbformat_minor": 5
}
