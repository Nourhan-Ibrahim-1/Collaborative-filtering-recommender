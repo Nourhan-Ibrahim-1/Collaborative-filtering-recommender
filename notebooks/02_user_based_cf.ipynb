{
 "cells": [
  {
   "cell_type": "code",
   "execution_count": 4,
   "id": "632ddb78",
   "metadata": {},
   "outputs": [],
   "source": [
    "import sys\n",
    "sys.path.append('../src')\n",
    "\n",
    "from data_loader import load_data, preprocess_data\n",
    "from recommender import build_trainset, user_based_cf, get_top_n\n",
    "from surprise.model_selection import train_test_split\n",
    "\n",
    "import os\n",
    "os.chdir(\"..\")"
   ]
  },
  {
   "cell_type": "code",
   "execution_count": 5,
   "id": "dabfe9d8",
   "metadata": {},
   "outputs": [],
   "source": [
    "ratings, items, users = load_data()\n",
    "ratings_clean = preprocess_data(ratings)"
   ]
  },
  {
   "cell_type": "code",
   "execution_count": 6,
   "id": "710ed093",
   "metadata": {},
   "outputs": [],
   "source": [
    "from surprise import Dataset, Reader\n",
    "reader = Reader(rating_scale=(1, 5))\n",
    "data = Dataset.load_from_df(ratings_clean[['user_id', 'item_id', 'rating']], reader)\n",
    "trainset, testset = train_test_split(data, test_size=0.25, random_state=42)"
   ]
  },
  {
   "cell_type": "code",
   "execution_count": 7,
   "id": "301a861f",
   "metadata": {},
   "outputs": [
    {
     "name": "stdout",
     "output_type": "stream",
     "text": [
      "Computing the cosine similarity matrix...\n",
      "Done computing similarity matrix.\n"
     ]
    }
   ],
   "source": [
    "algo_user = user_based_cf(trainset)"
   ]
  },
  {
   "cell_type": "code",
   "execution_count": 8,
   "id": "4f8a65b1",
   "metadata": {},
   "outputs": [],
   "source": [
    "predictions = algo_user.test(testset)"
   ]
  },
  {
   "cell_type": "code",
   "execution_count": 9,
   "id": "81593772",
   "metadata": {},
   "outputs": [
    {
     "name": "stdout",
     "output_type": "stream",
     "text": [
      "user: 391        item: 591        r_ui = 4.00   est = 3.85   {'actual_k': 20, 'was_impossible': False}\n",
      "user: 181        item: 1291       r_ui = 1.00   est = 2.99   {'actual_k': 7, 'was_impossible': False}\n",
      "user: 637        item: 268        r_ui = 2.00   est = 3.90   {'actual_k': 20, 'was_impossible': False}\n",
      "user: 332        item: 451        r_ui = 5.00   est = 3.40   {'actual_k': 20, 'was_impossible': False}\n",
      "user: 271        item: 204        r_ui = 4.00   est = 4.00   {'actual_k': 20, 'was_impossible': False}\n"
     ]
    }
   ],
   "source": [
    "for pred in predictions[:5]:\n",
    "    print(pred)"
   ]
  },
  {
   "cell_type": "code",
   "execution_count": 10,
   "id": "ba4cfdbd",
   "metadata": {},
   "outputs": [],
   "source": [
    "top_n = get_top_n(predictions, n=10)"
   ]
  },
  {
   "cell_type": "code",
   "execution_count": 14,
   "id": "e3de3bec",
   "metadata": {},
   "outputs": [
    {
     "name": "stdout",
     "output_type": "stream",
     "text": [
      "\n",
      "User-based top-N recommendations saved!\n"
     ]
    }
   ],
   "source": [
    "import pandas as pd\n",
    "\n",
    "top_n_list = []\n",
    "for uid, user_ratings in top_n.items():\n",
    "    for (iid, rating) in user_ratings:\n",
    "        top_n_list.append({'user_id': uid, 'item_id': iid, 'predicted_rating': rating})\n",
    "\n",
    "top_n_df = pd.DataFrame(top_n_list)\n",
    "top_n_df.to_csv('results/top_n_recommendations.csv', index=False)\n",
    "print(\"\\nUser-based top-N recommendations saved!\")\n"
   ]
  }
 ],
 "metadata": {
  "kernelspec": {
   "display_name": "Python 3",
   "language": "python",
   "name": "python3"
  },
  "language_info": {
   "codemirror_mode": {
    "name": "ipython",
    "version": 3
   },
   "file_extension": ".py",
   "mimetype": "text/x-python",
   "name": "python",
   "nbconvert_exporter": "python",
   "pygments_lexer": "ipython3",
   "version": "3.10.0"
  }
 },
 "nbformat": 4,
 "nbformat_minor": 5
}
